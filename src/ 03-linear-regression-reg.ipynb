{
 "cells": [
  {
   "cell_type": "markdown",
   "id": "f1616259",
   "metadata": {},
   "source": [
    "###  linear-regression"
   ]
  },
  {
   "cell_type": "code",
   "execution_count": 33,
   "id": "d420bde6",
   "metadata": {},
   "outputs": [],
   "source": [
    "import numpy as np\n",
    "import pandas as pd\n",
    "import matplotlib.pyplot as plt\n",
    "import seaborn as sns\n",
    "from sklearn.linear_model import LinearRegression\n",
    "from sklearn.model_selection import train_test_split\n",
    "from sklearn.metrics import r2_score\n"
   ]
  },
  {
   "cell_type": "markdown",
   "id": "abe467fd",
   "metadata": {},
   "source": [
    "### Leemos el Dataset "
   ]
  },
  {
   "cell_type": "code",
   "execution_count": 12,
   "id": "209a6159",
   "metadata": {},
   "outputs": [
    {
     "data": {
      "text/html": [
       "<div>\n",
       "<style scoped>\n",
       "    .dataframe tbody tr th:only-of-type {\n",
       "        vertical-align: middle;\n",
       "    }\n",
       "\n",
       "    .dataframe tbody tr th {\n",
       "        vertical-align: top;\n",
       "    }\n",
       "\n",
       "    .dataframe thead th {\n",
       "        text-align: right;\n",
       "    }\n",
       "</style>\n",
       "<table border=\"1\" class=\"dataframe\">\n",
       "  <thead>\n",
       "    <tr style=\"text-align: right;\">\n",
       "      <th></th>\n",
       "      <th>fips</th>\n",
       "      <th>TOT_POP</th>\n",
       "      <th>0-9</th>\n",
       "      <th>0-9 y/o % of total pop</th>\n",
       "      <th>19-Oct</th>\n",
       "      <th>10-19 y/o % of total pop</th>\n",
       "      <th>20-29</th>\n",
       "      <th>20-29 y/o % of total pop</th>\n",
       "      <th>30-39</th>\n",
       "      <th>30-39 y/o % of total pop</th>\n",
       "      <th>...</th>\n",
       "      <th>COPD_number</th>\n",
       "      <th>diabetes_prevalence</th>\n",
       "      <th>diabetes_Lower 95% CI</th>\n",
       "      <th>diabetes_Upper 95% CI</th>\n",
       "      <th>diabetes_number</th>\n",
       "      <th>CKD_prevalence</th>\n",
       "      <th>CKD_Lower 95% CI</th>\n",
       "      <th>CKD_Upper 95% CI</th>\n",
       "      <th>CKD_number</th>\n",
       "      <th>Urban_rural_code</th>\n",
       "    </tr>\n",
       "  </thead>\n",
       "  <tbody>\n",
       "    <tr>\n",
       "      <th>0</th>\n",
       "      <td>1001</td>\n",
       "      <td>55601</td>\n",
       "      <td>6787</td>\n",
       "      <td>12.206615</td>\n",
       "      <td>7637</td>\n",
       "      <td>13.735364</td>\n",
       "      <td>6878</td>\n",
       "      <td>12.370281</td>\n",
       "      <td>7089</td>\n",
       "      <td>12.749771</td>\n",
       "      <td>...</td>\n",
       "      <td>3644</td>\n",
       "      <td>12.9</td>\n",
       "      <td>11.9</td>\n",
       "      <td>13.8</td>\n",
       "      <td>5462</td>\n",
       "      <td>3.1</td>\n",
       "      <td>2.9</td>\n",
       "      <td>3.3</td>\n",
       "      <td>1326</td>\n",
       "      <td>3</td>\n",
       "    </tr>\n",
       "    <tr>\n",
       "      <th>1</th>\n",
       "      <td>1003</td>\n",
       "      <td>218022</td>\n",
       "      <td>24757</td>\n",
       "      <td>11.355276</td>\n",
       "      <td>26913</td>\n",
       "      <td>12.344167</td>\n",
       "      <td>23579</td>\n",
       "      <td>10.814964</td>\n",
       "      <td>25213</td>\n",
       "      <td>11.564429</td>\n",
       "      <td>...</td>\n",
       "      <td>14692</td>\n",
       "      <td>12.0</td>\n",
       "      <td>11.0</td>\n",
       "      <td>13.1</td>\n",
       "      <td>20520</td>\n",
       "      <td>3.2</td>\n",
       "      <td>3.0</td>\n",
       "      <td>3.5</td>\n",
       "      <td>5479</td>\n",
       "      <td>4</td>\n",
       "    </tr>\n",
       "    <tr>\n",
       "      <th>2</th>\n",
       "      <td>1005</td>\n",
       "      <td>24881</td>\n",
       "      <td>2732</td>\n",
       "      <td>10.980266</td>\n",
       "      <td>2960</td>\n",
       "      <td>11.896628</td>\n",
       "      <td>3268</td>\n",
       "      <td>13.134520</td>\n",
       "      <td>3201</td>\n",
       "      <td>12.865239</td>\n",
       "      <td>...</td>\n",
       "      <td>2373</td>\n",
       "      <td>19.7</td>\n",
       "      <td>18.6</td>\n",
       "      <td>20.6</td>\n",
       "      <td>3870</td>\n",
       "      <td>4.5</td>\n",
       "      <td>4.2</td>\n",
       "      <td>4.8</td>\n",
       "      <td>887</td>\n",
       "      <td>6</td>\n",
       "    </tr>\n",
       "    <tr>\n",
       "      <th>3</th>\n",
       "      <td>1007</td>\n",
       "      <td>22400</td>\n",
       "      <td>2456</td>\n",
       "      <td>10.964286</td>\n",
       "      <td>2596</td>\n",
       "      <td>11.589286</td>\n",
       "      <td>3029</td>\n",
       "      <td>13.522321</td>\n",
       "      <td>3113</td>\n",
       "      <td>13.897321</td>\n",
       "      <td>...</td>\n",
       "      <td>1789</td>\n",
       "      <td>14.1</td>\n",
       "      <td>13.2</td>\n",
       "      <td>14.9</td>\n",
       "      <td>2511</td>\n",
       "      <td>3.3</td>\n",
       "      <td>3.1</td>\n",
       "      <td>3.6</td>\n",
       "      <td>595</td>\n",
       "      <td>2</td>\n",
       "    </tr>\n",
       "    <tr>\n",
       "      <th>4</th>\n",
       "      <td>1009</td>\n",
       "      <td>57840</td>\n",
       "      <td>7095</td>\n",
       "      <td>12.266598</td>\n",
       "      <td>7570</td>\n",
       "      <td>13.087828</td>\n",
       "      <td>6742</td>\n",
       "      <td>11.656293</td>\n",
       "      <td>6884</td>\n",
       "      <td>11.901798</td>\n",
       "      <td>...</td>\n",
       "      <td>4661</td>\n",
       "      <td>13.5</td>\n",
       "      <td>12.6</td>\n",
       "      <td>14.5</td>\n",
       "      <td>6017</td>\n",
       "      <td>3.4</td>\n",
       "      <td>3.2</td>\n",
       "      <td>3.7</td>\n",
       "      <td>1507</td>\n",
       "      <td>2</td>\n",
       "    </tr>\n",
       "  </tbody>\n",
       "</table>\n",
       "<p>5 rows × 108 columns</p>\n",
       "</div>"
      ],
      "text/plain": [
       "   fips  TOT_POP    0-9  0-9 y/o % of total pop  19-Oct  \\\n",
       "0  1001    55601   6787               12.206615    7637   \n",
       "1  1003   218022  24757               11.355276   26913   \n",
       "2  1005    24881   2732               10.980266    2960   \n",
       "3  1007    22400   2456               10.964286    2596   \n",
       "4  1009    57840   7095               12.266598    7570   \n",
       "\n",
       "   10-19 y/o % of total pop  20-29  20-29 y/o % of total pop  30-39  \\\n",
       "0                 13.735364   6878                 12.370281   7089   \n",
       "1                 12.344167  23579                 10.814964  25213   \n",
       "2                 11.896628   3268                 13.134520   3201   \n",
       "3                 11.589286   3029                 13.522321   3113   \n",
       "4                 13.087828   6742                 11.656293   6884   \n",
       "\n",
       "   30-39 y/o % of total pop  ...  COPD_number  diabetes_prevalence  \\\n",
       "0                 12.749771  ...         3644                 12.9   \n",
       "1                 11.564429  ...        14692                 12.0   \n",
       "2                 12.865239  ...         2373                 19.7   \n",
       "3                 13.897321  ...         1789                 14.1   \n",
       "4                 11.901798  ...         4661                 13.5   \n",
       "\n",
       "   diabetes_Lower 95% CI  diabetes_Upper 95% CI  diabetes_number  \\\n",
       "0                   11.9                   13.8             5462   \n",
       "1                   11.0                   13.1            20520   \n",
       "2                   18.6                   20.6             3870   \n",
       "3                   13.2                   14.9             2511   \n",
       "4                   12.6                   14.5             6017   \n",
       "\n",
       "   CKD_prevalence  CKD_Lower 95% CI  CKD_Upper 95% CI  CKD_number  \\\n",
       "0             3.1               2.9               3.3        1326   \n",
       "1             3.2               3.0               3.5        5479   \n",
       "2             4.5               4.2               4.8         887   \n",
       "3             3.3               3.1               3.6         595   \n",
       "4             3.4               3.2               3.7        1507   \n",
       "\n",
       "   Urban_rural_code  \n",
       "0                 3  \n",
       "1                 4  \n",
       "2                 6  \n",
       "3                 2  \n",
       "4                 2  \n",
       "\n",
       "[5 rows x 108 columns]"
      ]
     },
     "execution_count": 12,
     "metadata": {},
     "output_type": "execute_result"
    }
   ],
   "source": [
    "df= pd.read_csv(\"../data/raw/demographic_health_data.csv\")\n",
    "df.head()\n"
   ]
  },
  {
   "cell_type": "code",
   "execution_count": 13,
   "id": "0b4f8edb",
   "metadata": {},
   "outputs": [
    {
     "data": {
      "text/plain": [
       "(3140, 108)"
      ]
     },
     "execution_count": 13,
     "metadata": {},
     "output_type": "execute_result"
    }
   ],
   "source": [
    "df.shape"
   ]
  },
  {
   "cell_type": "code",
   "execution_count": 14,
   "id": "62731cd0",
   "metadata": {},
   "outputs": [
    {
     "name": "stdout",
     "output_type": "stream",
     "text": [
      "<class 'pandas.core.frame.DataFrame'>\n",
      "RangeIndex: 3140 entries, 0 to 3139\n",
      "Columns: 108 entries, fips to Urban_rural_code\n",
      "dtypes: float64(61), int64(45), object(2)\n",
      "memory usage: 2.6+ MB\n"
     ]
    },
    {
     "data": {
      "text/plain": [
       "fips                        int64\n",
       "TOT_POP                     int64\n",
       "0-9                         int64\n",
       "0-9 y/o % of total pop    float64\n",
       "19-Oct                      int64\n",
       "                           ...   \n",
       "CKD_prevalence            float64\n",
       "CKD_Lower 95% CI          float64\n",
       "CKD_Upper 95% CI          float64\n",
       "CKD_number                  int64\n",
       "Urban_rural_code            int64\n",
       "Length: 108, dtype: object"
      ]
     },
     "execution_count": 14,
     "metadata": {},
     "output_type": "execute_result"
    }
   ],
   "source": [
    "df.info()\n",
    "df.dtypes"
   ]
  },
  {
   "cell_type": "code",
   "execution_count": 15,
   "id": "81373504",
   "metadata": {},
   "outputs": [
    {
     "data": {
      "text/html": [
       "<div>\n",
       "<style scoped>\n",
       "    .dataframe tbody tr th:only-of-type {\n",
       "        vertical-align: middle;\n",
       "    }\n",
       "\n",
       "    .dataframe tbody tr th {\n",
       "        vertical-align: top;\n",
       "    }\n",
       "\n",
       "    .dataframe thead th {\n",
       "        text-align: right;\n",
       "    }\n",
       "</style>\n",
       "<table border=\"1\" class=\"dataframe\">\n",
       "  <thead>\n",
       "    <tr style=\"text-align: right;\">\n",
       "      <th></th>\n",
       "      <th>count</th>\n",
       "      <th>mean</th>\n",
       "      <th>std</th>\n",
       "      <th>min</th>\n",
       "      <th>25%</th>\n",
       "      <th>50%</th>\n",
       "      <th>75%</th>\n",
       "      <th>max</th>\n",
       "    </tr>\n",
       "  </thead>\n",
       "  <tbody>\n",
       "    <tr>\n",
       "      <th>fips</th>\n",
       "      <td>3140.0</td>\n",
       "      <td>30401.640764</td>\n",
       "      <td>15150.559265</td>\n",
       "      <td>1001.0</td>\n",
       "      <td>18180.500000</td>\n",
       "      <td>29178.000000</td>\n",
       "      <td>45081.50000</td>\n",
       "      <td>5.604500e+04</td>\n",
       "    </tr>\n",
       "    <tr>\n",
       "      <th>TOT_POP</th>\n",
       "      <td>3140.0</td>\n",
       "      <td>104189.412420</td>\n",
       "      <td>333583.395432</td>\n",
       "      <td>88.0</td>\n",
       "      <td>10963.250000</td>\n",
       "      <td>25800.500000</td>\n",
       "      <td>67913.00000</td>\n",
       "      <td>1.010552e+07</td>\n",
       "    </tr>\n",
       "    <tr>\n",
       "      <th>0-9</th>\n",
       "      <td>3140.0</td>\n",
       "      <td>12740.302866</td>\n",
       "      <td>41807.301846</td>\n",
       "      <td>0.0</td>\n",
       "      <td>1280.500000</td>\n",
       "      <td>3057.000000</td>\n",
       "      <td>8097.00000</td>\n",
       "      <td>1.208253e+06</td>\n",
       "    </tr>\n",
       "    <tr>\n",
       "      <th>0-9 y/o % of total pop</th>\n",
       "      <td>3140.0</td>\n",
       "      <td>11.871051</td>\n",
       "      <td>2.124081</td>\n",
       "      <td>0.0</td>\n",
       "      <td>10.594639</td>\n",
       "      <td>11.802727</td>\n",
       "      <td>12.95184</td>\n",
       "      <td>2.546068e+01</td>\n",
       "    </tr>\n",
       "    <tr>\n",
       "      <th>19-Oct</th>\n",
       "      <td>3140.0</td>\n",
       "      <td>13367.976752</td>\n",
       "      <td>42284.392134</td>\n",
       "      <td>0.0</td>\n",
       "      <td>1374.500000</td>\n",
       "      <td>3274.000000</td>\n",
       "      <td>8822.25000</td>\n",
       "      <td>1.239139e+06</td>\n",
       "    </tr>\n",
       "    <tr>\n",
       "      <th>...</th>\n",
       "      <td>...</td>\n",
       "      <td>...</td>\n",
       "      <td>...</td>\n",
       "      <td>...</td>\n",
       "      <td>...</td>\n",
       "      <td>...</td>\n",
       "      <td>...</td>\n",
       "      <td>...</td>\n",
       "    </tr>\n",
       "    <tr>\n",
       "      <th>CKD_prevalence</th>\n",
       "      <td>3140.0</td>\n",
       "      <td>3.446242</td>\n",
       "      <td>0.568059</td>\n",
       "      <td>1.8</td>\n",
       "      <td>3.100000</td>\n",
       "      <td>3.400000</td>\n",
       "      <td>3.80000</td>\n",
       "      <td>6.200000e+00</td>\n",
       "    </tr>\n",
       "    <tr>\n",
       "      <th>CKD_Lower 95% CI</th>\n",
       "      <td>3140.0</td>\n",
       "      <td>3.207516</td>\n",
       "      <td>0.527740</td>\n",
       "      <td>1.7</td>\n",
       "      <td>2.900000</td>\n",
       "      <td>3.200000</td>\n",
       "      <td>3.50000</td>\n",
       "      <td>5.800000e+00</td>\n",
       "    </tr>\n",
       "    <tr>\n",
       "      <th>CKD_Upper 95% CI</th>\n",
       "      <td>3140.0</td>\n",
       "      <td>3.710478</td>\n",
       "      <td>0.613069</td>\n",
       "      <td>1.9</td>\n",
       "      <td>3.300000</td>\n",
       "      <td>3.700000</td>\n",
       "      <td>4.10000</td>\n",
       "      <td>6.600000e+00</td>\n",
       "    </tr>\n",
       "    <tr>\n",
       "      <th>CKD_number</th>\n",
       "      <td>3140.0</td>\n",
       "      <td>2466.234076</td>\n",
       "      <td>7730.422067</td>\n",
       "      <td>3.0</td>\n",
       "      <td>314.750000</td>\n",
       "      <td>718.000000</td>\n",
       "      <td>1776.25000</td>\n",
       "      <td>2.377660e+05</td>\n",
       "    </tr>\n",
       "    <tr>\n",
       "      <th>Urban_rural_code</th>\n",
       "      <td>3140.0</td>\n",
       "      <td>4.635350</td>\n",
       "      <td>1.510447</td>\n",
       "      <td>1.0</td>\n",
       "      <td>3.000000</td>\n",
       "      <td>5.000000</td>\n",
       "      <td>6.00000</td>\n",
       "      <td>6.000000e+00</td>\n",
       "    </tr>\n",
       "  </tbody>\n",
       "</table>\n",
       "<p>106 rows × 8 columns</p>\n",
       "</div>"
      ],
      "text/plain": [
       "                         count           mean            std     min  \\\n",
       "fips                    3140.0   30401.640764   15150.559265  1001.0   \n",
       "TOT_POP                 3140.0  104189.412420  333583.395432    88.0   \n",
       "0-9                     3140.0   12740.302866   41807.301846     0.0   \n",
       "0-9 y/o % of total pop  3140.0      11.871051       2.124081     0.0   \n",
       "19-Oct                  3140.0   13367.976752   42284.392134     0.0   \n",
       "...                        ...            ...            ...     ...   \n",
       "CKD_prevalence          3140.0       3.446242       0.568059     1.8   \n",
       "CKD_Lower 95% CI        3140.0       3.207516       0.527740     1.7   \n",
       "CKD_Upper 95% CI        3140.0       3.710478       0.613069     1.9   \n",
       "CKD_number              3140.0    2466.234076    7730.422067     3.0   \n",
       "Urban_rural_code        3140.0       4.635350       1.510447     1.0   \n",
       "\n",
       "                                 25%           50%          75%           max  \n",
       "fips                    18180.500000  29178.000000  45081.50000  5.604500e+04  \n",
       "TOT_POP                 10963.250000  25800.500000  67913.00000  1.010552e+07  \n",
       "0-9                      1280.500000   3057.000000   8097.00000  1.208253e+06  \n",
       "0-9 y/o % of total pop     10.594639     11.802727     12.95184  2.546068e+01  \n",
       "19-Oct                   1374.500000   3274.000000   8822.25000  1.239139e+06  \n",
       "...                              ...           ...          ...           ...  \n",
       "CKD_prevalence              3.100000      3.400000      3.80000  6.200000e+00  \n",
       "CKD_Lower 95% CI            2.900000      3.200000      3.50000  5.800000e+00  \n",
       "CKD_Upper 95% CI            3.300000      3.700000      4.10000  6.600000e+00  \n",
       "CKD_number                314.750000    718.000000   1776.25000  2.377660e+05  \n",
       "Urban_rural_code            3.000000      5.000000      6.00000  6.000000e+00  \n",
       "\n",
       "[106 rows x 8 columns]"
      ]
     },
     "execution_count": 15,
     "metadata": {},
     "output_type": "execute_result"
    }
   ],
   "source": [
    "df.describe().T"
   ]
  },
  {
   "cell_type": "code",
   "execution_count": 21,
   "id": "b5b1ef0d",
   "metadata": {},
   "outputs": [
    {
     "data": {
      "text/plain": [
       "['fips',\n",
       " 'TOT_POP',\n",
       " '0-9',\n",
       " '0-9 y/o % of total pop',\n",
       " '19-Oct',\n",
       " '10-19 y/o % of total pop',\n",
       " '20-29',\n",
       " '20-29 y/o % of total pop',\n",
       " '30-39',\n",
       " '30-39 y/o % of total pop',\n",
       " '40-49',\n",
       " '40-49 y/o % of total pop',\n",
       " '50-59',\n",
       " '50-59 y/o % of total pop',\n",
       " '60-69',\n",
       " '60-69 y/o % of total pop',\n",
       " '70-79',\n",
       " '70-79 y/o % of total pop',\n",
       " '80+',\n",
       " '80+ y/o % of total pop',\n",
       " 'White-alone pop',\n",
       " '% White-alone',\n",
       " 'Black-alone pop',\n",
       " '% Black-alone',\n",
       " 'Native American/American Indian-alone pop',\n",
       " '% NA/AI-alone',\n",
       " 'Asian-alone pop',\n",
       " '% Asian-alone',\n",
       " 'Hawaiian/Pacific Islander-alone pop',\n",
       " '% Hawaiian/PI-alone',\n",
       " 'Two or more races pop',\n",
       " '% Two or more races',\n",
       " 'POP_ESTIMATE_2018',\n",
       " 'N_POP_CHG_2018',\n",
       " 'GQ_ESTIMATES_2018',\n",
       " 'R_birth_2018',\n",
       " 'R_death_2018',\n",
       " 'R_NATURAL_INC_2018',\n",
       " 'R_INTERNATIONAL_MIG_2018',\n",
       " 'R_DOMESTIC_MIG_2018',\n",
       " 'R_NET_MIG_2018',\n",
       " 'Less than a high school diploma 2014-18',\n",
       " 'High school diploma only 2014-18',\n",
       " \"Some college or associate's degree 2014-18\",\n",
       " \"Bachelor's degree or higher 2014-18\",\n",
       " 'Percent of adults with less than a high school diploma 2014-18',\n",
       " 'Percent of adults with a high school diploma only 2014-18',\n",
       " \"Percent of adults completing some college or associate's degree 2014-18\",\n",
       " \"Percent of adults with a bachelor's degree or higher 2014-18\",\n",
       " 'POVALL_2018',\n",
       " 'PCTPOVALL_2018',\n",
       " 'PCTPOV017_2018',\n",
       " 'PCTPOV517_2018',\n",
       " 'MEDHHINC_2018',\n",
       " 'CI90LBINC_2018',\n",
       " 'CI90UBINC_2018',\n",
       " 'Civilian_labor_force_2018',\n",
       " 'Employed_2018',\n",
       " 'Unemployed_2018',\n",
       " 'Unemployment_rate_2018',\n",
       " 'Median_Household_Income_2018',\n",
       " 'Med_HH_Income_Percent_of_State_Total_2018',\n",
       " 'Active Physicians per 100000 Population 2018 (AAMC)',\n",
       " 'Total Active Patient Care Physicians per 100000 Population 2018 (AAMC)',\n",
       " 'Active Primary Care Physicians per 100000 Population 2018 (AAMC)',\n",
       " 'Active Patient Care Primary Care Physicians per 100000 Population 2018 (AAMC)',\n",
       " 'Active General Surgeons per 100000 Population 2018 (AAMC)',\n",
       " 'Active Patient Care General Surgeons per 100000 Population 2018 (AAMC)',\n",
       " 'Total nurse practitioners (2019)',\n",
       " 'Total physician assistants (2019)',\n",
       " 'Total Hospitals (2019)',\n",
       " 'Internal Medicine Primary Care (2019)',\n",
       " 'Family Medicine/General Practice Primary Care (2019)',\n",
       " 'Total Specialist Physicians (2019)',\n",
       " 'ICU Beds_x',\n",
       " 'Total Population',\n",
       " 'Population Aged 60+',\n",
       " 'Percent of Population Aged 60+',\n",
       " 'COUNTY_NAME',\n",
       " 'STATE_NAME',\n",
       " 'STATE_FIPS',\n",
       " 'CNTY_FIPS',\n",
       " 'county_pop2018_18 and older',\n",
       " 'anycondition_prevalence',\n",
       " 'anycondition_Lower 95% CI',\n",
       " 'anycondition_Upper 95% CI',\n",
       " 'anycondition_number',\n",
       " 'Obesity_prevalence',\n",
       " 'Obesity_Lower 95% CI',\n",
       " 'Obesity_Upper 95% CI',\n",
       " 'Obesity_number',\n",
       " 'Heart disease_prevalence',\n",
       " 'Heart disease_Lower 95% CI',\n",
       " 'Heart disease_Upper 95% CI',\n",
       " 'Heart disease_number',\n",
       " 'COPD_prevalence',\n",
       " 'COPD_Lower 95% CI',\n",
       " 'COPD_Upper 95% CI',\n",
       " 'COPD_number',\n",
       " 'diabetes_prevalence',\n",
       " 'diabetes_Lower 95% CI',\n",
       " 'diabetes_Upper 95% CI',\n",
       " 'diabetes_number',\n",
       " 'CKD_prevalence',\n",
       " 'CKD_Lower 95% CI',\n",
       " 'CKD_Upper 95% CI',\n",
       " 'CKD_number',\n",
       " 'Urban_rural_code']"
      ]
     },
     "execution_count": 21,
     "metadata": {},
     "output_type": "execute_result"
    }
   ],
   "source": [
    "df.columns.tolist()"
   ]
  },
  {
   "cell_type": "markdown",
   "id": "912bb353",
   "metadata": {},
   "source": [
    "### Saber cuales son las columnas object para luego convertirlas en numericas"
   ]
  },
  {
   "cell_type": "code",
   "execution_count": 23,
   "id": "20b4de50",
   "metadata": {},
   "outputs": [
    {
     "ename": "NameError",
     "evalue": "name 'columnas_object' is not defined",
     "output_type": "error",
     "traceback": [
      "\u001b[31m---------------------------------------------------------------------------\u001b[39m",
      "\u001b[31mNameError\u001b[39m                                 Traceback (most recent call last)",
      "\u001b[36mCell\u001b[39m\u001b[36m \u001b[39m\u001b[32mIn[23]\u001b[39m\u001b[32m, line 5\u001b[39m\n\u001b[32m      2\u001b[39m df_numerico = pd.get_dummies(df, drop_first=\u001b[38;5;28;01mTrue\u001b[39;00m)\n\u001b[32m      4\u001b[39m \u001b[38;5;66;03m# Si prefieres convertir cada columna a códigos numéricos:\u001b[39;00m\n\u001b[32m----> \u001b[39m\u001b[32m5\u001b[39m \u001b[38;5;28;01mfor\u001b[39;00m col \u001b[38;5;129;01min\u001b[39;00m \u001b[43mcolumnas_object\u001b[49m:\n\u001b[32m      6\u001b[39m     df[col] = df[col].astype(\u001b[33m'\u001b[39m\u001b[33mcategory\u001b[39m\u001b[33m'\u001b[39m).cat.codes\n",
      "\u001b[31mNameError\u001b[39m: name 'columnas_object' is not defined"
     ]
    }
   ],
   "source": [
    "# Para convertir las columnas object a numéricas puedes usar pd.get_dummies (one-hot encoding)\n",
    "df_numerico = pd.get_dummies(df, drop_first=True)\n",
    "\n",
    "# Si prefieres convertir cada columna a códigos numéricos:\n",
    "for col in columnas_object:\n",
    "    df[col] = df[col].astype('category').cat.codes"
   ]
  },
  {
   "cell_type": "code",
   "execution_count": 24,
   "id": "3111cbc3",
   "metadata": {},
   "outputs": [
    {
     "ename": "ValueError",
     "evalue": "could not convert string to float: 'Autauga'",
     "output_type": "error",
     "traceback": [
      "\u001b[31m---------------------------------------------------------------------------\u001b[39m",
      "\u001b[31mValueError\u001b[39m                                Traceback (most recent call last)",
      "\u001b[36mCell\u001b[39m\u001b[36m \u001b[39m\u001b[32mIn[24]\u001b[39m\u001b[32m, line 1\u001b[39m\n\u001b[32m----> \u001b[39m\u001b[32m1\u001b[39m correlation = \u001b[43mdf\u001b[49m\u001b[43m.\u001b[49m\u001b[43mcorr\u001b[49m\u001b[43m(\u001b[49m\u001b[43m)\u001b[49m\n\u001b[32m      2\u001b[39m \u001b[38;5;28mprint\u001b[39m(correlation)\n",
      "\u001b[36mFile \u001b[39m\u001b[32m~/.local/lib/python3.11/site-packages/pandas/core/frame.py:11056\u001b[39m, in \u001b[36mDataFrame.corr\u001b[39m\u001b[34m(self, method, min_periods, numeric_only)\u001b[39m\n\u001b[32m  11054\u001b[39m cols = data.columns\n\u001b[32m  11055\u001b[39m idx = cols.copy()\n\u001b[32m> \u001b[39m\u001b[32m11056\u001b[39m mat = \u001b[43mdata\u001b[49m\u001b[43m.\u001b[49m\u001b[43mto_numpy\u001b[49m\u001b[43m(\u001b[49m\u001b[43mdtype\u001b[49m\u001b[43m=\u001b[49m\u001b[38;5;28;43mfloat\u001b[39;49m\u001b[43m,\u001b[49m\u001b[43m \u001b[49m\u001b[43mna_value\u001b[49m\u001b[43m=\u001b[49m\u001b[43mnp\u001b[49m\u001b[43m.\u001b[49m\u001b[43mnan\u001b[49m\u001b[43m,\u001b[49m\u001b[43m \u001b[49m\u001b[43mcopy\u001b[49m\u001b[43m=\u001b[49m\u001b[38;5;28;43;01mFalse\u001b[39;49;00m\u001b[43m)\u001b[49m\n\u001b[32m  11058\u001b[39m \u001b[38;5;28;01mif\u001b[39;00m method == \u001b[33m\"\u001b[39m\u001b[33mpearson\u001b[39m\u001b[33m\"\u001b[39m:\n\u001b[32m  11059\u001b[39m     correl = libalgos.nancorr(mat, minp=min_periods)\n",
      "\u001b[36mFile \u001b[39m\u001b[32m~/.local/lib/python3.11/site-packages/pandas/core/frame.py:1998\u001b[39m, in \u001b[36mDataFrame.to_numpy\u001b[39m\u001b[34m(self, dtype, copy, na_value)\u001b[39m\n\u001b[32m   1996\u001b[39m \u001b[38;5;28;01mif\u001b[39;00m dtype \u001b[38;5;129;01mis\u001b[39;00m \u001b[38;5;129;01mnot\u001b[39;00m \u001b[38;5;28;01mNone\u001b[39;00m:\n\u001b[32m   1997\u001b[39m     dtype = np.dtype(dtype)\n\u001b[32m-> \u001b[39m\u001b[32m1998\u001b[39m result = \u001b[38;5;28;43mself\u001b[39;49m\u001b[43m.\u001b[49m\u001b[43m_mgr\u001b[49m\u001b[43m.\u001b[49m\u001b[43mas_array\u001b[49m\u001b[43m(\u001b[49m\u001b[43mdtype\u001b[49m\u001b[43m=\u001b[49m\u001b[43mdtype\u001b[49m\u001b[43m,\u001b[49m\u001b[43m \u001b[49m\u001b[43mcopy\u001b[49m\u001b[43m=\u001b[49m\u001b[43mcopy\u001b[49m\u001b[43m,\u001b[49m\u001b[43m \u001b[49m\u001b[43mna_value\u001b[49m\u001b[43m=\u001b[49m\u001b[43mna_value\u001b[49m\u001b[43m)\u001b[49m\n\u001b[32m   1999\u001b[39m \u001b[38;5;28;01mif\u001b[39;00m result.dtype \u001b[38;5;129;01mis\u001b[39;00m \u001b[38;5;129;01mnot\u001b[39;00m dtype:\n\u001b[32m   2000\u001b[39m     result = np.asarray(result, dtype=dtype)\n",
      "\u001b[36mFile \u001b[39m\u001b[32m~/.local/lib/python3.11/site-packages/pandas/core/internals/managers.py:1694\u001b[39m, in \u001b[36mBlockManager.as_array\u001b[39m\u001b[34m(self, dtype, copy, na_value)\u001b[39m\n\u001b[32m   1692\u001b[39m         arr.flags.writeable = \u001b[38;5;28;01mFalse\u001b[39;00m\n\u001b[32m   1693\u001b[39m \u001b[38;5;28;01melse\u001b[39;00m:\n\u001b[32m-> \u001b[39m\u001b[32m1694\u001b[39m     arr = \u001b[38;5;28;43mself\u001b[39;49m\u001b[43m.\u001b[49m\u001b[43m_interleave\u001b[49m\u001b[43m(\u001b[49m\u001b[43mdtype\u001b[49m\u001b[43m=\u001b[49m\u001b[43mdtype\u001b[49m\u001b[43m,\u001b[49m\u001b[43m \u001b[49m\u001b[43mna_value\u001b[49m\u001b[43m=\u001b[49m\u001b[43mna_value\u001b[49m\u001b[43m)\u001b[49m\n\u001b[32m   1695\u001b[39m     \u001b[38;5;66;03m# The underlying data was copied within _interleave, so no need\u001b[39;00m\n\u001b[32m   1696\u001b[39m     \u001b[38;5;66;03m# to further copy if copy=True or setting na_value\u001b[39;00m\n\u001b[32m   1698\u001b[39m \u001b[38;5;28;01mif\u001b[39;00m na_value \u001b[38;5;129;01mis\u001b[39;00m lib.no_default:\n",
      "\u001b[36mFile \u001b[39m\u001b[32m~/.local/lib/python3.11/site-packages/pandas/core/internals/managers.py:1753\u001b[39m, in \u001b[36mBlockManager._interleave\u001b[39m\u001b[34m(self, dtype, na_value)\u001b[39m\n\u001b[32m   1751\u001b[39m     \u001b[38;5;28;01melse\u001b[39;00m:\n\u001b[32m   1752\u001b[39m         arr = blk.get_values(dtype)\n\u001b[32m-> \u001b[39m\u001b[32m1753\u001b[39m     \u001b[43mresult\u001b[49m\u001b[43m[\u001b[49m\u001b[43mrl\u001b[49m\u001b[43m.\u001b[49m\u001b[43mindexer\u001b[49m\u001b[43m]\u001b[49m = arr\n\u001b[32m   1754\u001b[39m     itemmask[rl.indexer] = \u001b[32m1\u001b[39m\n\u001b[32m   1756\u001b[39m \u001b[38;5;28;01mif\u001b[39;00m \u001b[38;5;129;01mnot\u001b[39;00m itemmask.all():\n",
      "\u001b[31mValueError\u001b[39m: could not convert string to float: 'Autauga'"
     ]
    }
   ],
   "source": [
    "correlation = df.corr()\n",
    "print(correlation)"
   ]
  },
  {
   "cell_type": "markdown",
   "id": "d872fa7d",
   "metadata": {},
   "source": [
    "#### Valores nulos y duplicados"
   ]
  },
  {
   "cell_type": "code",
   "execution_count": 25,
   "id": "222a62aa",
   "metadata": {},
   "outputs": [
    {
     "data": {
      "text/plain": [
       "fips                      0\n",
       "TOT_POP                   0\n",
       "0-9                       0\n",
       "0-9 y/o % of total pop    0\n",
       "19-Oct                    0\n",
       "                         ..\n",
       "CKD_prevalence            0\n",
       "CKD_Lower 95% CI          0\n",
       "CKD_Upper 95% CI          0\n",
       "CKD_number                0\n",
       "Urban_rural_code          0\n",
       "Length: 108, dtype: int64"
      ]
     },
     "execution_count": 25,
     "metadata": {},
     "output_type": "execute_result"
    }
   ],
   "source": [
    "df.isnull().sum()"
   ]
  },
  {
   "cell_type": "code",
   "execution_count": 26,
   "id": "6a46b3a9",
   "metadata": {},
   "outputs": [
    {
     "data": {
      "text/plain": [
       "np.int64(0)"
      ]
     },
     "execution_count": 26,
     "metadata": {},
     "output_type": "execute_result"
    }
   ],
   "source": [
    "df.duplicated().sum()"
   ]
  },
  {
   "cell_type": "markdown",
   "id": "cb07016d",
   "metadata": {},
   "source": [
    "### Identificacion de variables categoricas"
   ]
  },
  {
   "cell_type": "code",
   "execution_count": 27,
   "id": "9590a39e",
   "metadata": {},
   "outputs": [
    {
     "name": "stdout",
     "output_type": "stream",
     "text": [
      "['COUNTY_NAME', 'STATE_NAME']\n"
     ]
    }
   ],
   "source": [
    "columnas_object = df.select_dtypes(include='object').columns.tolist()\n",
    "print(columnas_object)"
   ]
  },
  {
   "cell_type": "code",
   "execution_count": null,
   "id": "28cae291",
   "metadata": {},
   "outputs": [],
   "source": [
    "target = 'diabetes_prevalence'\n",
    "X = df_numerico.drop(columns=[target])\n",
    "y = df_numerico[target]"
   ]
  },
  {
   "cell_type": "markdown",
   "id": "d2ec1d33",
   "metadata": {},
   "source": [
    "### Defino la variable"
   ]
  },
  {
   "cell_type": "code",
   "execution_count": 29,
   "id": "bb631af7",
   "metadata": {},
   "outputs": [],
   "source": [
    "#Definir la variable objetivo (target) y las variables predictoras (features)\n",
    "target = 'diabetes_prevalence'\n",
    "X = df_numerico.drop(columns=[target])\n",
    "y = df_numerico[target]"
   ]
  },
  {
   "cell_type": "markdown",
   "id": "19f6a94e",
   "metadata": {},
   "source": [
    "### Visualizar la relación entre el target y las variables más relevantes\n",
    ">\n",
    "> Usare gráficos como scatterplots, boxplots o pairplots para ver cómo se relacionan las variables predictoras con el target."
   ]
  },
  {
   "cell_type": "code",
   "execution_count": 30,
   "id": "edca7deb",
   "metadata": {},
   "outputs": [
    {
     "data": {
      "image/png": "[encoded data removed]",
      "text/plain": [
       "<Figure size 640x480 with 1 Axes>"
      ]
     },
     "metadata": {},
     "output_type": "display_data"
    }
   ],
   "source": [
    "# Ejemplo: relación entre una variable y el target\n",
    "sns.scatterplot(data=df, x='TOT_POP', y='diabetes_prevalence')\n",
    "plt.show()"
   ]
  },
  {
   "cell_type": "markdown",
   "id": "8fa14530",
   "metadata": {},
   "source": [
    "### Resumen de hallazgos del EDA\n",
    "\n",
    "- **Estructura del dataset:**  \n",
    "  El dataset contiene información demográfica y de salud a nivel regional, incluyendo variables de población, distribución por edades, y prevalencias/números de enfermedades crónicas como diabetes, EPOC y enfermedad renal crónica.\n",
    "\n",
    "- **Valores nulos y duplicados:**  \n",
    "  Se identificaron y cuantificaron los valores nulos y duplicados. Es importante tratarlos antes del modelado para evitar sesgos o errores.\n",
    "\n",
    "- **Variables categóricas:**  \n",
    "  Se detectaron columnas de tipo `object`, las cuales fueron convertidas a variables numéricas mediante codificación (one-hot o códigos de categoría).\n",
    "\n",
    "- **Distribución de variables:**  \n",
    "  Las variables numéricas presentan diferentes escalas y distribuciones. Algunas variables pueden tener outliers, como se observó en los boxplots.\n",
    "\n",
    "- **Correlación entre variables:**  \n",
    "  El análisis de la matriz de correlación muestra relaciones entre variables demográficas y de salud. Algunas variables pueden estar altamente correlacionadas, lo que debe considerarse en el modelado.\n",
    "\n",
    "- **Variable objetivo:**  \n",
    "  Se seleccionó `diabetes_prevalence` como variable objetivo para el análisis predictivo, ya que es un indicador relevante de salud pública.\n",
    "\n",
    "- **Visualización:**  \n",
    "  Se realizaron gráficos para explorar la relación entre la prevalencia de diabetes y variables como la población total, identificando posibles patrones y tendencias.\n",
    "\n",
    "**Conclusión:**  \n",
    "El dataset está listo para la fase de modelado, tras la conversión de variables categóricas y la revisión de valores nulos/outliers. Se recomienda considerar la correlación y la posible multicolinealidad en los modelos predictivos."
   ]
  },
  {
   "cell_type": "markdown",
   "id": "ad2aafa1",
   "metadata": {},
   "source": [
    "### Construyendo modelo de regresion"
   ]
  },
  {
   "cell_type": "code",
   "execution_count": null,
   "id": "b51decd2",
   "metadata": {},
   "outputs": [
    {
     "name": "stdout",
     "output_type": "stream",
     "text": [
      "R2 Regresión Lineal: 0.9996\n"
     ]
    },
    {
     "name": "stderr",
     "output_type": "stream",
     "text": [
      "/home/vscode/.local/lib/python3.11/site-packages/sklearn/linear_model/_coordinate_descent.py:695: ConvergenceWarning: Objective did not converge. You might want to increase the number of iterations, check the scale of the features or consider increasing regularisation. Duality gap: 1.766e+03, tolerance: 1.823e+00\n",
      "  model = cd_fast.enet_coordinate_descent(\n",
      "/home/vscode/.local/lib/python3.11/site-packages/sklearn/base.py:1363: UserWarning: With alpha=0, this algorithm does not converge well. You are advised to use the LinearRegression estimator\n",
      "  return fit_method(estimator, *args, **kwargs)\n",
      "/home/vscode/.local/lib/python3.11/site-packages/sklearn/linear_model/_coordinate_descent.py:695: UserWarning: Coordinate descent with no regularization may lead to unexpected results and is discouraged.\n",
      "  model = cd_fast.enet_coordinate_descent(\n"
     ]
    },
    {
     "name": "stdout",
     "output_type": "stream",
     "text": [
      "R2 Lasso (alpha=1.0): 0.9228\n"
     ]
    },
    {
     "name": "stderr",
     "output_type": "stream",
     "text": [
      "/home/vscode/.local/lib/python3.11/site-packages/sklearn/linear_model/_coordinate_descent.py:695: ConvergenceWarning: Objective did not converge. You might want to increase the number of iterations, check the scale of the features or consider increasing regularisation. Duality gap: 8.473e+02, tolerance: 1.823e+00\n",
      "  model = cd_fast.enet_coordinate_descent(\n"
     ]
    }
   ],
   "source": [
    "\n",
    "# División de los datos\n",
    "X_train, X_test, y_train, y_test = train_test_split(X, y, test_size=0.2, random_state=42)\n",
    "\n",
    "# Modelo de regresión lineal\n",
    "lr = LinearRegression()\n",
    "lr.fit(X_train, y_train)\n",
    "y_pred_lr = lr.predict(X_test)\n",
    "r2_lr = r2_score(y_test, y_pred_lr)\n",
    "print(f\"R2 Regresión Lineal: {r2_lr:.4f}\")\n",
    "\n",
    "# 2. Entrenamiento de un modelo Lasso y comparación\n",
    "from sklearn.linear_model import Lasso\n",
    "\n",
    "lasso = Lasso()  # Por defecto alpha=1.0\n",
    "lasso.fit(X_train, y_train)\n",
    "y_pred_lasso = lasso.predict(X_test)\n",
    "r2_lasso = r2_score(y_test, y_pred_lasso)\n",
    "print(f\"R2 Lasso (alpha=1.0): {r2_lasso:.4f}\")\n",
    "\n",
    "# 3. Evolución del R2 con diferentes valores de alpha en Lasso\n",
    "import numpy as np\n",
    "alphas = np.linspace(0, 20, 50)\n",
    "r2_scores = []\n",
    "\n",
    "for alpha in alphas:\n",
    "    lasso = Lasso(alpha=alpha, max_iter=10000)\n",
    "    lasso.fit(X_train, y_train)\n",
    "    y_pred = lasso.predict(X_test)\n",
    "    r2_scores.append(r2_score(y_test, y_pred))\n",
    "\n",
    "# 4. Gráfico de la evolución del R2\n",
    "plt.figure(figsize=(8, 5))\n",
    "plt.plot(alphas, r2_scores, marker='o')\n",
    "plt.xlabel('Alpha (Lasso)')\n",
    "plt.ylabel('R2 en test')\n",
    "plt.title('Evolución del R2 según alpha en Lasso')\n",
    "plt.grid(True)\n",
    "plt.show()"
   ]
  },
  {
   "cell_type": "markdown",
   "id": "3731dee0",
   "metadata": {},
   "source": [
    "\n",
    "\n",
    "**Explicación:**\n",
    "- Se entrena y evalúa un modelo de regresión lineal y uno Lasso (por defecto).\n",
    "- Se compara el R2 de ambos modelos.\n",
    "- Se analiza cómo cambia el R2 de Lasso al variar el hiperparámetro alpha y se grafica la evolución.  \n",
    "- Puedes ajustar el rango de `alphas` si lo deseo."
   ]
  }
 ],
 "metadata": {
  "kernelspec": {
   "display_name": "Python 3",
   "language": "python",
   "name": "python3"
  },
  "language_info": {
   "codemirror_mode": {
    "name": "ipython",
    "version": 3
   },
   "file_extension": ".py",
   "mimetype": "text/x-python",
   "name": "python",
   "nbconvert_exporter": "python",
   "pygments_lexer": "ipython3",
   "version": "3.11.4"
  }
 },
 "nbformat": 4,
 "nbformat_minor": 5
}
